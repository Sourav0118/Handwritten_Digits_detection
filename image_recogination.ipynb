{
 "cells": [
  {
   "cell_type": "markdown",
   "id": "1e6da1e6",
   "metadata": {},
   "source": [
    "# Image Recogination using Logistic Regression"
   ]
  },
  {
   "cell_type": "markdown",
   "id": "6054a309",
   "metadata": {},
   "source": [
    "## Exporting the data\n",
    "#### we begin by importing torch and torchvision.  torchvision contains some utilities for working with image data. it alos contains the helper classes to automatically dowmload and import popular dataset like MNIST"
   ]
  },
  {
   "cell_type": "code",
   "execution_count": 2,
   "id": "224faa16",
   "metadata": {},
   "outputs": [],
   "source": [
    "import torch\n",
    "import torchvision\n",
    "from torchvision.datasets import MNIST\n",
    "import matplotlib.pyplot as plt\n",
    "%matplotlib inline\n",
    "import torchvision.transforms as trn\n",
    "import numpy as np\n",
    "from torch.utils.data.sampler import SubsetRandomSampler\n",
    "from torch.utils.data.dataloader import DataLoader\n",
    "import torch.nn as nn\n",
    "import torch.nn.functional as F"
   ]
  },
  {
   "cell_type": "code",
   "execution_count": 3,
   "id": "10fd21cc",
   "metadata": {},
   "outputs": [
    {
     "ename": "OSError",
     "evalue": "[Errno 22] Invalid argument: 'D:\\\\sourav\\\\cs\\\\AI_ML\\\\pytorch\\\\pytorch'",
     "output_type": "error",
     "traceback": [
      "\u001b[0;31m---------------------------------------------------------------------------\u001b[0m",
      "\u001b[0;31mOSError\u001b[0m                                   Traceback (most recent call last)",
      "Cell \u001b[0;32mIn [3], line 1\u001b[0m\n\u001b[0;32m----> 1\u001b[0m dataset \u001b[38;5;241m=\u001b[39m \u001b[43mMNIST\u001b[49m\u001b[43m(\u001b[49m\u001b[43mroot\u001b[49m\u001b[43m \u001b[49m\u001b[38;5;241;43m=\u001b[39;49m\u001b[43m \u001b[49m\u001b[38;5;124;43m\"\u001b[39;49m\u001b[38;5;124;43mD:\u001b[39;49m\u001b[38;5;124;43m\\\u001b[39;49m\u001b[38;5;124;43msourav\u001b[39;49m\u001b[38;5;124;43m\\\u001b[39;49m\u001b[38;5;124;43mcs\u001b[39;49m\u001b[38;5;124;43m\\\u001b[39;49m\u001b[38;5;124;43mAI_ML\u001b[39;49m\u001b[38;5;124;43m\\\u001b[39;49m\u001b[38;5;124;43mpytorch\u001b[39;49m\u001b[38;5;124;43m\\\u001b[39;49m\u001b[38;5;124;43mpytorch\u001b[39;49m\u001b[38;5;124;43m\"\u001b[39;49m\u001b[43m,\u001b[49m\u001b[43m \u001b[49m\u001b[43mdownload\u001b[49m\u001b[43m \u001b[49m\u001b[38;5;241;43m=\u001b[39;49m\u001b[43m \u001b[49m\u001b[38;5;28;43;01mTrue\u001b[39;49;00m\u001b[43m)\u001b[49m\n",
      "File \u001b[0;32m/media/souravsaini/Data/POP_OS/env/lib/python3.10/site-packages/torchvision/datasets/mnist.py:99\u001b[0m, in \u001b[0;36mMNIST.__init__\u001b[0;34m(self, root, train, transform, target_transform, download)\u001b[0m\n\u001b[1;32m     96\u001b[0m     \u001b[38;5;28;01mreturn\u001b[39;00m\n\u001b[1;32m     98\u001b[0m \u001b[38;5;28;01mif\u001b[39;00m download:\n\u001b[0;32m---> 99\u001b[0m     \u001b[38;5;28;43mself\u001b[39;49m\u001b[38;5;241;43m.\u001b[39;49m\u001b[43mdownload\u001b[49m\u001b[43m(\u001b[49m\u001b[43m)\u001b[49m\n\u001b[1;32m    101\u001b[0m \u001b[38;5;28;01mif\u001b[39;00m \u001b[38;5;129;01mnot\u001b[39;00m \u001b[38;5;28mself\u001b[39m\u001b[38;5;241m.\u001b[39m_check_exists():\n\u001b[1;32m    102\u001b[0m     \u001b[38;5;28;01mraise\u001b[39;00m \u001b[38;5;167;01mRuntimeError\u001b[39;00m(\u001b[38;5;124m\"\u001b[39m\u001b[38;5;124mDataset not found. You can use download=True to download it\u001b[39m\u001b[38;5;124m\"\u001b[39m)\n",
      "File \u001b[0;32m/media/souravsaini/Data/POP_OS/env/lib/python3.10/site-packages/torchvision/datasets/mnist.py:179\u001b[0m, in \u001b[0;36mMNIST.download\u001b[0;34m(self)\u001b[0m\n\u001b[1;32m    176\u001b[0m \u001b[38;5;28;01mif\u001b[39;00m \u001b[38;5;28mself\u001b[39m\u001b[38;5;241m.\u001b[39m_check_exists():\n\u001b[1;32m    177\u001b[0m     \u001b[38;5;28;01mreturn\u001b[39;00m\n\u001b[0;32m--> 179\u001b[0m \u001b[43mos\u001b[49m\u001b[38;5;241;43m.\u001b[39;49m\u001b[43mmakedirs\u001b[49m\u001b[43m(\u001b[49m\u001b[38;5;28;43mself\u001b[39;49m\u001b[38;5;241;43m.\u001b[39;49m\u001b[43mraw_folder\u001b[49m\u001b[43m,\u001b[49m\u001b[43m \u001b[49m\u001b[43mexist_ok\u001b[49m\u001b[38;5;241;43m=\u001b[39;49m\u001b[38;5;28;43;01mTrue\u001b[39;49;00m\u001b[43m)\u001b[49m\n\u001b[1;32m    181\u001b[0m \u001b[38;5;66;03m# download files\u001b[39;00m\n\u001b[1;32m    182\u001b[0m \u001b[38;5;28;01mfor\u001b[39;00m filename, md5 \u001b[38;5;129;01min\u001b[39;00m \u001b[38;5;28mself\u001b[39m\u001b[38;5;241m.\u001b[39mresources:\n",
      "File \u001b[0;32m/usr/lib/python3.10/os.py:215\u001b[0m, in \u001b[0;36mmakedirs\u001b[0;34m(name, mode, exist_ok)\u001b[0m\n\u001b[1;32m    213\u001b[0m \u001b[38;5;28;01mif\u001b[39;00m head \u001b[38;5;129;01mand\u001b[39;00m tail \u001b[38;5;129;01mand\u001b[39;00m \u001b[38;5;129;01mnot\u001b[39;00m path\u001b[38;5;241m.\u001b[39mexists(head):\n\u001b[1;32m    214\u001b[0m     \u001b[38;5;28;01mtry\u001b[39;00m:\n\u001b[0;32m--> 215\u001b[0m         \u001b[43mmakedirs\u001b[49m\u001b[43m(\u001b[49m\u001b[43mhead\u001b[49m\u001b[43m,\u001b[49m\u001b[43m \u001b[49m\u001b[43mexist_ok\u001b[49m\u001b[38;5;241;43m=\u001b[39;49m\u001b[43mexist_ok\u001b[49m\u001b[43m)\u001b[49m\n\u001b[1;32m    216\u001b[0m     \u001b[38;5;28;01mexcept\u001b[39;00m \u001b[38;5;167;01mFileExistsError\u001b[39;00m:\n\u001b[1;32m    217\u001b[0m         \u001b[38;5;66;03m# Defeats race condition when another thread created the path\u001b[39;00m\n\u001b[1;32m    218\u001b[0m         \u001b[38;5;28;01mpass\u001b[39;00m\n",
      "File \u001b[0;32m/usr/lib/python3.10/os.py:215\u001b[0m, in \u001b[0;36mmakedirs\u001b[0;34m(name, mode, exist_ok)\u001b[0m\n\u001b[1;32m    213\u001b[0m \u001b[38;5;28;01mif\u001b[39;00m head \u001b[38;5;129;01mand\u001b[39;00m tail \u001b[38;5;129;01mand\u001b[39;00m \u001b[38;5;129;01mnot\u001b[39;00m path\u001b[38;5;241m.\u001b[39mexists(head):\n\u001b[1;32m    214\u001b[0m     \u001b[38;5;28;01mtry\u001b[39;00m:\n\u001b[0;32m--> 215\u001b[0m         \u001b[43mmakedirs\u001b[49m\u001b[43m(\u001b[49m\u001b[43mhead\u001b[49m\u001b[43m,\u001b[49m\u001b[43m \u001b[49m\u001b[43mexist_ok\u001b[49m\u001b[38;5;241;43m=\u001b[39;49m\u001b[43mexist_ok\u001b[49m\u001b[43m)\u001b[49m\n\u001b[1;32m    216\u001b[0m     \u001b[38;5;28;01mexcept\u001b[39;00m \u001b[38;5;167;01mFileExistsError\u001b[39;00m:\n\u001b[1;32m    217\u001b[0m         \u001b[38;5;66;03m# Defeats race condition when another thread created the path\u001b[39;00m\n\u001b[1;32m    218\u001b[0m         \u001b[38;5;28;01mpass\u001b[39;00m\n",
      "File \u001b[0;32m/usr/lib/python3.10/os.py:225\u001b[0m, in \u001b[0;36mmakedirs\u001b[0;34m(name, mode, exist_ok)\u001b[0m\n\u001b[1;32m    223\u001b[0m         \u001b[38;5;28;01mreturn\u001b[39;00m\n\u001b[1;32m    224\u001b[0m \u001b[38;5;28;01mtry\u001b[39;00m:\n\u001b[0;32m--> 225\u001b[0m     \u001b[43mmkdir\u001b[49m\u001b[43m(\u001b[49m\u001b[43mname\u001b[49m\u001b[43m,\u001b[49m\u001b[43m \u001b[49m\u001b[43mmode\u001b[49m\u001b[43m)\u001b[49m\n\u001b[1;32m    226\u001b[0m \u001b[38;5;28;01mexcept\u001b[39;00m \u001b[38;5;167;01mOSError\u001b[39;00m:\n\u001b[1;32m    227\u001b[0m     \u001b[38;5;66;03m# Cannot rely on checking for EEXIST, since the operating system\u001b[39;00m\n\u001b[1;32m    228\u001b[0m     \u001b[38;5;66;03m# could give priority to other errors like EACCES or EROFS\u001b[39;00m\n\u001b[1;32m    229\u001b[0m     \u001b[38;5;28;01mif\u001b[39;00m \u001b[38;5;129;01mnot\u001b[39;00m exist_ok \u001b[38;5;129;01mor\u001b[39;00m \u001b[38;5;129;01mnot\u001b[39;00m path\u001b[38;5;241m.\u001b[39misdir(name):\n",
      "\u001b[0;31mOSError\u001b[0m: [Errno 22] Invalid argument: 'D:\\\\sourav\\\\cs\\\\AI_ML\\\\pytorch\\\\pytorch'"
     ]
    }
   ],
   "source": [
    "dataset = MNIST(root = \"D:\\sourav\\cs\\AI_ML\\pytorch\\pytorch\", download = True)"
   ]
  },
  {
   "cell_type": "code",
   "execution_count": null,
   "id": "3ca32ec6",
   "metadata": {},
   "outputs": [],
   "source": [
    "len(dataset)"
   ]
  },
  {
   "cell_type": "markdown",
   "id": "07553159",
   "metadata": {},
   "source": [
    "the dataset has 60,000 images which can be used to train the model. there is also an aditional test set of 10,000 images which can be created by passing train=False to the MNIST class"
   ]
  },
  {
   "cell_type": "code",
   "execution_count": null,
   "id": "2024ca46",
   "metadata": {},
   "outputs": [],
   "source": [
    "test_dataset = MNIST(root = \"D:\\sourav\\cs\\AI_ML\\pytorch\\pytorch\", train = False)\n",
    "len(test_dataset)"
   ]
  },
  {
   "cell_type": "code",
   "execution_count": null,
   "id": "ede71f6a",
   "metadata": {},
   "outputs": [],
   "source": [
    "dataset[0]"
   ]
  },
  {
   "cell_type": "markdown",
   "id": "48abc9c8",
   "metadata": {},
   "source": [
    "it's a pair consiting of a 28x28 image and a lable. the image is an object of the class PIL.Image.Image, which is a part of the python imaging library Piloow. we can view the image within jupyter matlpotlib, the de-facto lpotting and graphing library for the data science in python"
   ]
  },
  {
   "cell_type": "code",
   "execution_count": null,
   "id": "81270997",
   "metadata": {},
   "outputs": [],
   "source": [
    "image, label = dataset[0]\n",
    "plt.imshow(image, cmap='gray')  #cmap = \"gray\" tells that image is combinations of shades of grey\n",
    "print(\"label: \", label)"
   ]
  },
  {
   "cell_type": "markdown",
   "id": "5b342a66",
   "metadata": {},
   "source": [
    "## Convert images to pytorch tensor"
   ]
  },
  {
   "cell_type": "code",
   "execution_count": null,
   "id": "d7bd4d12",
   "metadata": {},
   "outputs": [],
   "source": [
    "dataset = MNIST(root = \"D:\\sourav\\cs\\AI_ML\\pytorch\\pytorch\", train=True, transform = trn.ToTensor())\n",
    "img_t, label = dataset[0]\n",
    "print(img_t.shape, label)"
   ]
  },
  {
   "cell_type": "code",
   "execution_count": null,
   "id": "8b37ea91",
   "metadata": {},
   "outputs": [],
   "source": [
    "print(img_t[0:, :, :])"
   ]
  },
  {
   "cell_type": "code",
   "execution_count": null,
   "id": "f5cd7e88",
   "metadata": {},
   "outputs": [],
   "source": [
    "plt.imshow(img_t[0, 10:15, 10:15], cmap = 'gray')"
   ]
  },
  {
   "cell_type": "markdown",
   "id": "65b4b080",
   "metadata": {},
   "source": [
    "### Traning set-\n",
    "##### used to train the model i.e compute the loss and adjust the weights of the model using gradient descent\n",
    "### Validation set-\n",
    "\n",
    "##### used to evaluate the model while training, adjust hyperparameter (learning rate, e.t.c.) and pick the best version of the model\n",
    "\n",
    "### Test set-\n",
    "##### used to compute different models, or different types of modleing approaches and report the finaccuracy of the model\n",
    "\n",
    "\n",
    "#### there are no predefined validation set, therefore we must manually split the 60,000 images into traing and validation dataset"
   ]
  },
  {
   "cell_type": "code",
   "execution_count": null,
   "id": "8937b9e7",
   "metadata": {},
   "outputs": [],
   "source": [
    "# let us define a function that randomly picks a given fraction of the images for the validation set\n",
    "\n",
    "np.set_printoptions(suppress = True)\n",
    "def split_indx(n, val_frct):\n",
    "    n_val = int(n*val_frct)   # no. of images x faction\n",
    "    idx = np.random.permutation(n)   # creating random permutation of 0 to n-1\n",
    "    return idx[n_val:], idx[:n_val]\n",
    "\n",
    "train_idx, val_idx = split_indx(len(dataset), 0.15)\n",
    "print(len(train_idx))\n",
    "print(len(val_idx))"
   ]
  },
  {
   "cell_type": "code",
   "execution_count": null,
   "id": "bf06dde9",
   "metadata": {},
   "outputs": [],
   "source": [
    "batch_size=5\n",
    "\n",
    "train_sampler = SubsetRandomSampler(train_idx)\n",
    "print(train_sampler)\n",
    "train_loader = DataLoader(dataset, batch_size, sampler=train_sampler)\n",
    "\n",
    "val_sampler = SubsetRandomSampler(val_idx)\n",
    "val_loader = DataLoader(dataset, batch_size, sampler=val_sampler)"
   ]
  },
  {
   "cell_type": "markdown",
   "id": "819bebb9",
   "metadata": {},
   "source": [
    "since nn.linear expects the each training examples to be a vactor, each 1x28x28 image tensor needs to be flattened out into a vector of size(28x28)\n",
    "\n",
    "the output of ecah image is the vector  of size 10, with each element of the vector signifying the probability of a particular target label(i.e. 0 to 9). the predicted label for an image is simply the one with teh highest probablity"
   ]
  },
  {
   "cell_type": "code",
   "execution_count": null,
   "id": "fdd4b2c9",
   "metadata": {},
   "outputs": [],
   "source": [
    "np.set_printoptions(suppress = True)\n",
    "input_size = 28*28\n",
    "num_classes = 10\n",
    "model = nn.Linear(input_size, num_classes)\n",
    "print(model.weight)\n",
    "print(model.bias)"
   ]
  },
  {
   "cell_type": "markdown",
   "id": "120543c9",
   "metadata": {},
   "source": [
    "since our images are of the shape 1x28x28 but we need them to be a vector of size 784 i.e. we need to flatten them out. we will use .reshape method of tensor which will allow us to efficiently view each image as a flat vector. \n",
    "to include this additional functionality within our model, we need to define a custom model by extending the nn.Module class from PyTorch"
   ]
  },
  {
   "cell_type": "code",
   "execution_count": null,
   "id": "476a5a5f",
   "metadata": {},
   "outputs": [],
   "source": [
    "class MnistModel(nn.Module):\n",
    "    def __init__(self):\n",
    "        super().__init__()  # to inherit the nn.Module class\n",
    "        self.linear = nn.Linear(input_size, num_classes)\n",
    "        # print('self.linear= ', self.linear)\n",
    "        \n",
    "    def forward(self, xb):\n",
    "        # print('old xb size= ', xb.shape)\n",
    "        # print('old xb= ', xb)\n",
    "        xb = xb.reshape(-1,784)  # -1 allows to work with any batch size\n",
    "        # print('xb size= ', xb.shape)\n",
    "        # print('xb= ', xb)\n",
    "        out = self.linear(xb)\n",
    "        return out\n",
    "\n",
    "model = MnistModel()"
   ]
  },
  {
   "cell_type": "code",
   "execution_count": null,
   "id": "77a2623c",
   "metadata": {},
   "outputs": [],
   "source": [
    "for images, labels in train_loader:\n",
    "    print(labels)\n",
    "    print(images.shape)\n",
    "    otpt = model(images)\n",
    "    print('otpt size=', otpt.shape)\n",
    "    print(otpt)\n",
    "    break\n",
    "print(model.linear.weight.shape)\n",
    "print(model.linear.bias.shape)"
   ]
  },
  {
   "cell_type": "markdown",
   "id": "25359eb9",
   "metadata": {},
   "source": [
    "now we want to convert the each data value in the weigth as probabilities and therefore the values should be in range[0,1] and sum of all the probabilties should add to 1"
   ]
  },
  {
   "cell_type": "markdown",
   "id": "c68a9700",
   "metadata": {},
   "source": [
    "to do so we first raise all the values(vi) in the row to e^(vi). this is to make a significant difference between the numbers. then we divide the value by sum of all the elements. the value we got is called the softmax."
   ]
  },
  {
   "cell_type": "code",
   "execution_count": null,
   "id": "c2172b3d",
   "metadata": {},
   "outputs": [],
   "source": [
    "prob = F.softmax(otpt, dim=1)\n",
    "print(prob)\n",
    "print(prob.shape)"
   ]
  },
  {
   "cell_type": "code",
   "execution_count": 41,
   "id": "e9b0a1cc",
   "metadata": {},
   "outputs": [
    {
     "name": "stdout",
     "output_type": "stream",
     "text": [
      "tensor([0.1418, 0.1459, 0.1252, 0.1173, 0.1334], grad_fn=<MaxBackward0>)\n",
      "torch.Size([5])\n",
      "tensor([2, 2, 6, 5, 3])\n"
     ]
    }
   ],
   "source": [
    "max_prob, pred = torch.max(prob, dim=1)\n",
    "print(max_prob)\n",
    "print(max_prob.shape)\n",
    "print(pred)"
   ]
  },
  {
   "cell_type": "code",
   "execution_count": 42,
   "id": "dc29cf4e",
   "metadata": {},
   "outputs": [
    {
     "name": "stdout",
     "output_type": "stream",
     "text": [
      "tensor([4, 5, 6, 3, 2])\n"
     ]
    }
   ],
   "source": [
    "print(labels)"
   ]
  },
  {
   "cell_type": "markdown",
   "id": "f734d84a",
   "metadata": {},
   "source": [
    "# Evaluation matrix and Loss function\n",
    "#### just as with linear regression, we need a way to evaluate how well our model is performing. A natural way to do is to find the percentage of lables that were predicted correctly i.e. the accuracy of the predictions"
   ]
  },
  {
   "cell_type": "code",
   "execution_count": 43,
   "id": "f483c4ca",
   "metadata": {},
   "outputs": [
    {
     "data": {
      "text/plain": [
       "0.2"
      ]
     },
     "execution_count": 43,
     "metadata": {},
     "output_type": "execute_result"
    }
   ],
   "source": [
    "def accuracy(l1, l2):\n",
    "    return torch.sum(l1==l2).item()/len(l1)\n",
    "\n",
    "accuracy(pred, labels)"
   ]
  },
  {
   "cell_type": "code",
   "execution_count": 44,
   "id": "9c347f0f",
   "metadata": {},
   "outputs": [
    {
     "data": {
      "text/plain": [
       "tensor([False, False,  True, False, False])"
      ]
     },
     "execution_count": 44,
     "metadata": {},
     "output_type": "execute_result"
    }
   ],
   "source": [
    "labels==pred"
   ]
  },
  {
   "cell_type": "markdown",
   "id": "b5f2b4e8",
   "metadata": {},
   "source": [
    "##### we can not use accuracy as our loss function, because accuray is non continous and differentiable"
   ]
  },
  {
   "cell_type": "markdown",
   "id": "86c411a4",
   "metadata": {},
   "source": [
    "##### a commonly used loss fnx for clarrification problem is the cross entropy which can be done in the following way"
   ]
  },
  {
   "cell_type": "markdown",
   "id": "6ab9a54e",
   "metadata": {},
   "source": [
    "##### for each output row pick the predicted probability for the correct label.\n",
    "\n",
    "##### then take the log of the picked value. if the probability is high or close to 1 then the log value will be very small negative value close to zero. if the probabilty is close to one then the log value will be very high negative value. so we multiply the value with -1 which makes it positive\n",
    "\n",
    "##### then take the avg value of the entory across all the output row to get the overall loss for the batch size"
   ]
  },
  {
   "cell_type": "code",
   "execution_count": 1,
   "id": "b7a79db0",
   "metadata": {},
   "outputs": [
    {
     "ename": "NameError",
     "evalue": "name 'F' is not defined",
     "output_type": "error",
     "traceback": [
      "\u001b[0;31m---------------------------------------------------------------------------\u001b[0m",
      "\u001b[0;31mNameError\u001b[0m                                 Traceback (most recent call last)",
      "Cell \u001b[0;32mIn [1], line 1\u001b[0m\n\u001b[0;32m----> 1\u001b[0m loss_fn \u001b[38;5;241m=\u001b[39m \u001b[43mF\u001b[49m\u001b[38;5;241m.\u001b[39mcross_entropy\n\u001b[1;32m      2\u001b[0m loss \u001b[38;5;241m=\u001b[39m loss_fn(prob, labels)\n\u001b[1;32m      3\u001b[0m \u001b[38;5;28mprint\u001b[39m(loss)\n",
      "\u001b[0;31mNameError\u001b[0m: name 'F' is not defined"
     ]
    }
   ],
   "source": [
    "loss_fn = F.cross_entropy\n",
    "loss = loss_fn(prob, labels)\n",
    "print(loss)\n",
    "print(labels)"
   ]
  },
  {
   "cell_type": "markdown",
   "id": "667a89aa",
   "metadata": {},
   "source": [
    "# Optimizer "
   ]
  },
  {
   "cell_type": "code",
   "execution_count": 52,
   "id": "fc433873",
   "metadata": {},
   "outputs": [],
   "source": [
    "l_r = 0.001\n",
    "opt = torch.optim.SGD(model.parameters(), lr=l_r)"
   ]
  },
  {
   "cell_type": "code",
   "execution_count": 53,
   "id": "bfc61a0e",
   "metadata": {},
   "outputs": [],
   "source": [
    "def loss_batch(model, loss_fxn, xb, yb, opt=None, metric=None):\n",
    "    preds = model(xb)   # find the predictions by putting the batch into the model fxn\n",
    "    loss = loss_fxn(preds, yb) # then find the loss wrt to the lables provided\n",
    "    \n",
    "    if opt is not None:\n",
    "        loss.backward()   # compute gradient\n",
    "        opt.step()        # update parameters\n",
    "        opt.zero_grad()   # reset gradients\n",
    "    \n",
    "    metric_result = None\n",
    "    if metric is not None:\n",
    "        metric_result = metric(preds, yb)\n",
    "    \n",
    "    return loss.item(), len(xb), metric_result"
   ]
  },
  {
   "cell_type": "code",
   "execution_count": 1,
   "id": "588c7c76",
   "metadata": {},
   "outputs": [],
   "source": [
    "def evaluation(model, loss_fn, valid_dl, metric=None):\n",
    "    with torch.no_grad():\n",
    "        # for gives the batches out of the validation set\n",
    "        # metric is the accuracy matrix\n",
    "        results = [loss_batch(model, loss_fn, xb, yb, metric=metric)\n",
    "                  for xb, yb in valid_dl]\n",
    "        # to separate out the lists we use zip function\n",
    "        losses, nums, metrics = zip(*results)\n",
    "        # total size is the sum of all the batch size\n",
    "        total = np.sum(nums)\n",
    "        # since we have divded the set into batches therefore we can have the last batch size to be smaller than the rest\n",
    "        # so we first calculate the length and then find its avg value\n",
    "        # suppose we have a batch of size 3, 3 and 2. so we take the first loss and multipy with 3, take 2nd and multiply with \n",
    "        # 3 and then take 3rd loss and muliply with 2. ten sum all the values and then divide by sum of batch size i.e. 3+3+2\n",
    "        avg_loss = np.sum(np.multiply(losses, nums)) / total\n",
    "        avg_metric = None\n",
    "        if metric is not None:\n",
    "            avg_metric = np.sum(np.multiply(metrics, nums))/total\n",
    "        return avg_loss, total, avg_metric"
   ]
  },
  {
   "cell_type": "code",
   "execution_count": 2,
   "id": "09efbcee",
   "metadata": {},
   "outputs": [],
   "source": [
    "def accuracy(outputs, lables):\n",
    "    prob, preds = torch.max(outputs, dim = 1)\n",
    "    return torch.sum(pred == lables).item()/len(preds)"
   ]
  },
  {
   "cell_type": "code",
   "execution_count": 3,
   "id": "643d4f50",
   "metadata": {},
   "outputs": [
    {
     "ename": "NameError",
     "evalue": "name 'model' is not defined",
     "output_type": "error",
     "traceback": [
      "\u001b[1;31m---------------------------------------------------------------------------\u001b[0m",
      "\u001b[1;31mNameError\u001b[0m                                 Traceback (most recent call last)",
      "\u001b[1;32m~\\AppData\\Local\\Temp\\ipykernel_20368\\1821637592.py\u001b[0m in \u001b[0;36m<module>\u001b[1;34m\u001b[0m\n\u001b[1;32m----> 1\u001b[1;33m \u001b[0mval_loss\u001b[0m\u001b[1;33m,\u001b[0m \u001b[0mtotal\u001b[0m\u001b[1;33m,\u001b[0m \u001b[0mval_acc\u001b[0m \u001b[1;33m=\u001b[0m \u001b[0mevaluation\u001b[0m\u001b[1;33m(\u001b[0m\u001b[0mmodel\u001b[0m\u001b[1;33m,\u001b[0m \u001b[0mloss_fn\u001b[0m\u001b[1;33m,\u001b[0m \u001b[0mval_loader\u001b[0m\u001b[1;33m,\u001b[0m \u001b[0maccuracy\u001b[0m\u001b[1;33m)\u001b[0m\u001b[1;33m\u001b[0m\u001b[1;33m\u001b[0m\u001b[0m\n\u001b[0m\u001b[0;32m      2\u001b[0m \u001b[0mprint\u001b[0m\u001b[1;33m(\u001b[0m\u001b[1;34m\"loss= \"\u001b[0m\u001b[1;33m,\u001b[0m \u001b[0mval_loss\u001b[0m\u001b[1;33m,\u001b[0m \u001b[1;34m\" accuracy= \"\u001b[0m\u001b[1;33m,\u001b[0m \u001b[0mval_acc\u001b[0m\u001b[1;33m)\u001b[0m\u001b[1;33m\u001b[0m\u001b[1;33m\u001b[0m\u001b[0m\n",
      "\u001b[1;31mNameError\u001b[0m: name 'model' is not defined"
     ]
    }
   ],
   "source": [
    "val_loss, total, val_acc = evaluation(model, loss_fn, val_loader, accuracy)\n",
    "print(\"loss= \", val_loss, \" accuracy= \", val_acc)"
   ]
  },
  {
   "cell_type": "code",
   "execution_count": 57,
   "id": "b73968c7",
   "metadata": {},
   "outputs": [],
   "source": [
    "def fit(epochs, model, loss_fn, opt, train_dl, valid_dl, metric=None):\n",
    "    for i in range(epochs):\n",
    "        # Training\n",
    "        for xb, yb in train_dl:\n",
    "            loss, length, metric_result = loss_batch(model, loss_fn, xb, yb, opt)\n",
    "        \n",
    "        # Evaluation\n",
    "        result = evaluation(model, loss_fn, valid_dl, metric)\n",
    "        val_loss, total, val_metric = result\n",
    "        \n",
    "        # printing the progress\n",
    "        if metric is None:\n",
    "            print(\"epoch [\", i+1, ',', epochs, '] , loss= ', val_loss)\n",
    "        else:\n",
    "            print('*Epoch [', i+1, ',', epochs, '], loss= ', val_loss, ',', metric.__name__, ',' , val_metric)"
   ]
  },
  {
   "cell_type": "code",
   "execution_count": 58,
   "id": "52074732",
   "metadata": {},
   "outputs": [],
   "source": [
    "model = MnistModel()\n",
    "optimizer = torch.optim.SGD(model.parameters(), lr= l_r)"
   ]
  },
  {
   "cell_type": "code",
   "execution_count": 59,
   "id": "c5be3994",
   "metadata": {},
   "outputs": [
    {
     "name": "stdout",
     "output_type": "stream",
     "text": [
      "*Epoch [ 1 , 30 ], loss=  0.6083059507980942 , accuracy , 0.09988888888888889\n",
      "*Epoch [ 2 , 30 ], loss=  0.4897251421585679 , accuracy , 0.09333333333333334\n",
      "*Epoch [ 3 , 30 ], loss=  0.4412181560208814 , accuracy , 0.0971111111111111\n",
      "*Epoch [ 4 , 30 ], loss=  0.41414751435733504 , accuracy , 0.09722222222222222\n",
      "*Epoch [ 5 , 30 ], loss=  0.39567119393523575 , accuracy , 0.10177777777777777\n",
      "*Epoch [ 6 , 30 ], loss=  0.3821566343302321 , accuracy , 0.097\n",
      "*Epoch [ 7 , 30 ], loss=  0.37222685020572194 , accuracy , 0.10133333333333333\n",
      "*Epoch [ 8 , 30 ], loss=  0.3634978203873874 , accuracy , 0.09677777777777778\n",
      "*Epoch [ 9 , 30 ], loss=  0.35746556281215613 , accuracy , 0.095\n",
      "*Epoch [ 10 , 30 ], loss=  0.35232253602912855 , accuracy , 0.10211111111111111\n",
      "*Epoch [ 11 , 30 ], loss=  0.3462709190581356 , accuracy , 0.09566666666666666\n",
      "*Epoch [ 12 , 30 ], loss=  0.34194930695281883 , accuracy , 0.095\n",
      "*Epoch [ 13 , 30 ], loss=  0.33812662952088024 , accuracy , 0.09822222222222222\n",
      "*Epoch [ 14 , 30 ], loss=  0.33506298046378 , accuracy , 0.10355555555555555\n",
      "*Epoch [ 15 , 30 ], loss=  0.3320606010505516 , accuracy , 0.09811111111111111\n",
      "*Epoch [ 16 , 30 ], loss=  0.32913333656835475 , accuracy , 0.09288888888888888\n",
      "*Epoch [ 17 , 30 ], loss=  0.32734722175570724 , accuracy , 0.098\n",
      "*Epoch [ 18 , 30 ], loss=  0.3254964880396922 , accuracy , 0.09666666666666666\n",
      "*Epoch [ 19 , 30 ], loss=  0.32365883118059074 , accuracy , 0.09555555555555556\n",
      "*Epoch [ 20 , 30 ], loss=  0.3220501557196904 , accuracy , 0.093\n",
      "*Epoch [ 21 , 30 ], loss=  0.3196663880315868 , accuracy , 0.09688888888888889\n",
      "*Epoch [ 22 , 30 ], loss=  0.31775141371258847 , accuracy , 0.099\n",
      "*Epoch [ 23 , 30 ], loss=  0.3168626827066247 , accuracy , 0.10155555555555555\n",
      "*Epoch [ 24 , 30 ], loss=  0.31598934934008865 , accuracy , 0.09344444444444444\n",
      "*Epoch [ 25 , 30 ], loss=  0.31368604299482994 , accuracy , 0.09866666666666667\n",
      "*Epoch [ 26 , 30 ], loss=  0.31230469009683776 , accuracy , 0.09544444444444444\n",
      "*Epoch [ 27 , 30 ], loss=  0.3127873355967717 , accuracy , 0.10144444444444445\n",
      "*Epoch [ 28 , 30 ], loss=  0.3107273150093129 , accuracy , 0.09566666666666666\n",
      "*Epoch [ 29 , 30 ], loss=  0.31006334722869927 , accuracy , 0.09755555555555556\n",
      "*Epoch [ 30 , 30 ], loss=  0.3088473479285474 , accuracy , 0.09566666666666666\n"
     ]
    }
   ],
   "source": [
    "fit(30, model, F.cross_entropy, optimizer, train_loader, val_loader, accuracy)"
   ]
  },
  {
   "cell_type": "markdown",
   "id": "0fd2097b",
   "metadata": {},
   "source": [
    "# Testing"
   ]
  },
  {
   "cell_type": "code",
   "execution_count": 60,
   "id": "66eb87b8",
   "metadata": {},
   "outputs": [
    {
     "name": "stdout",
     "output_type": "stream",
     "text": [
      "shape=  torch.Size([1, 28, 28])\n",
      "label=  7\n"
     ]
    },
    {
     "data": {
      "image/png": "[encoded data removed]",
      "text/plain": [
       "<Figure size 640x480 with 1 Axes>"
      ]
     },
     "metadata": {},
     "output_type": "display_data"
    }
   ],
   "source": [
    "test_dataset = MNIST(root = \"D:\\sourav\\cs\\AI_ML\\pytorch\\pytorch\", train = False, transform=trn.ToTensor())\n",
    "img, label = test_dataset[0]\n",
    "plt.imshow(img[0], cmap = 'gray')\n",
    "print('shape= ', img.shape)\n",
    "print('label= ', label)"
   ]
  },
  {
   "cell_type": "code",
   "execution_count": 61,
   "id": "6088b948",
   "metadata": {},
   "outputs": [
    {
     "data": {
      "text/plain": [
       "torch.Size([1, 1, 28, 28])"
      ]
     },
     "execution_count": 61,
     "metadata": {},
     "output_type": "execute_result"
    }
   ],
   "source": [
    "img.unsqueeze(0).shape"
   ]
  },
  {
   "cell_type": "code",
   "execution_count": 62,
   "id": "be9be623",
   "metadata": {},
   "outputs": [],
   "source": [
    "def predict_img(img, model):\n",
    "    xb = img.unsqueeze(0)\n",
    "    yb = model(xb)\n",
    "    prob, pred = torch.max(yb, dim=1)\n",
    "    return pred[0].item()"
   ]
  },
  {
   "cell_type": "code",
   "execution_count": 73,
   "id": "88f02464",
   "metadata": {},
   "outputs": [
    {
     "name": "stdout",
     "output_type": "stream",
     "text": [
      "label=  1 , prediction=  1\n"
     ]
    },
    {
     "data": {
      "image/png": "[encoded data removed]",
      "text/plain": [
       "<Figure size 640x480 with 1 Axes>"
      ]
     },
     "metadata": {},
     "output_type": "display_data"
    }
   ],
   "source": [
    "img, label = test_dataset[57]\n",
    "plt.imshow(img[0], cmap='gray')\n",
    "print('label= ', label, ', prediction= ', predict_img(img, model))"
   ]
  },
  {
   "cell_type": "code",
   "execution_count": 65,
   "id": "f881271a",
   "metadata": {},
   "outputs": [
    {
     "name": "stdout",
     "output_type": "stream",
     "text": [
      "Loss=  0.2911902453611256  accuracy=  0.0996\n"
     ]
    }
   ],
   "source": [
    "test_loader = DataLoader(test_dataset, batch_size=5)\n",
    "\n",
    "test_loss, total, test_acc = evaluation(model, loss_fn, test_loader, accuracy)\n",
    "print('Loss= ', test_loss, \" accuracy= \", test_acc)"
   ]
  },
  {
   "cell_type": "code",
   "execution_count": null,
   "id": "e797dc47",
   "metadata": {},
   "outputs": [],
   "source": []
  }
 ],
 "metadata": {
  "kernelspec": {
   "display_name": "Python 3 (ipykernel)",
   "language": "python",
   "name": "python3"
  },
  "language_info": {
   "codemirror_mode": {
    "name": "ipython",
    "version": 3
   },
   "file_extension": ".py",
   "mimetype": "text/x-python",
   "name": "python",
   "nbconvert_exporter": "python",
   "pygments_lexer": "ipython3",
   "version": "3.10.6"
  }
 },
 "nbformat": 4,
 "nbformat_minor": 5
}
