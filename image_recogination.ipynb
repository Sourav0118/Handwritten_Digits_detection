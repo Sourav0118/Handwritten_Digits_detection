{
 "cells": [
  {
   "attachments": {},
   "cell_type": "markdown",
   "id": "1e6da1e6",
   "metadata": {},
   "source": [
    "# Image Recogination using Logistic Regression"
   ]
  },
  {
   "attachments": {},
   "cell_type": "markdown",
   "id": "6054a309",
   "metadata": {},
   "source": [
    "## Exporting the data\n",
    "#### we begin by importing torch and torchvision.  torchvision contains some utilities for working with image data. it alos contains the helper classes to automatically dowmload and import popular dataset like MNIST"
   ]
  },
  {
   "cell_type": "code",
   "execution_count": 38,
   "id": "224faa16",
   "metadata": {},
   "outputs": [],
   "source": [
    "import torch\n",
    "import torchvision\n",
    "from torchvision.datasets import MNIST\n",
    "import matplotlib.pyplot as plt\n",
    "%matplotlib inline\n",
    "import torchvision.transforms as trn\n",
    "import numpy as np\n",
    "from torch.utils.data.sampler import SubsetRandomSampler\n",
    "from torch.utils.data.dataloader import DataLoader\n",
    "import torch.nn as nn\n",
    "import torch.nn.functional as F"
   ]
  },
  {
   "cell_type": "code",
   "execution_count": 39,
   "id": "10fd21cc",
   "metadata": {},
   "outputs": [],
   "source": [
    "dataset = MNIST(root = \"/media/souravsaini/Data/POP_OS/dl/pytorch/pytorch\", download = False)"
   ]
  },
  {
   "cell_type": "code",
   "execution_count": 40,
   "id": "3ca32ec6",
   "metadata": {},
   "outputs": [
    {
     "data": {
      "text/plain": [
       "60000"
      ]
     },
     "execution_count": 40,
     "metadata": {},
     "output_type": "execute_result"
    }
   ],
   "source": [
    "len(dataset)"
   ]
  },
  {
   "attachments": {},
   "cell_type": "markdown",
   "id": "07553159",
   "metadata": {},
   "source": [
    "the dataset has 60,000 images which can be used to train the model. there is also an aditional test set of 10,000 images which can be created by passing train=False to the MNIST class"
   ]
  },
  {
   "cell_type": "code",
   "execution_count": 41,
   "id": "2024ca46",
   "metadata": {},
   "outputs": [
    {
     "data": {
      "text/plain": [
       "10000"
      ]
     },
     "execution_count": 41,
     "metadata": {},
     "output_type": "execute_result"
    }
   ],
   "source": [
    "test_dataset = MNIST(root = \"/media/souravsaini/Data/POP_OS/dl/pytorch/pytorch\", train = False)\n",
    "len(test_dataset)"
   ]
  },
  {
   "cell_type": "code",
   "execution_count": 42,
   "id": "ede71f6a",
   "metadata": {},
   "outputs": [
    {
     "data": {
      "text/plain": [
       "(<PIL.Image.Image image mode=L size=28x28>, 5)"
      ]
     },
     "execution_count": 42,
     "metadata": {},
     "output_type": "execute_result"
    }
   ],
   "source": [
    "dataset[0]"
   ]
  },
  {
   "attachments": {},
   "cell_type": "markdown",
   "id": "48abc9c8",
   "metadata": {},
   "source": [
    "it's a pair consiting of a 28x28 image and a lable. the image is an object of the class PIL.Image.Image, which is a part of the python imaging library Piloow. we can view the image within jupyter matlpotlib, the de-facto lpotting and graphing library for the data science in python"
   ]
  },
  {
   "cell_type": "code",
   "execution_count": 43,
   "id": "81270997",
   "metadata": {},
   "outputs": [
    {
     "name": "stdout",
     "output_type": "stream",
     "text": [
      "label:  1\n"
     ]
    },
    {
     "data": {
      "image/png": "[encoded data removed]",
      "text/plain": [
       "<Figure size 640x480 with 1 Axes>"
      ]
     },
     "metadata": {},
     "output_type": "display_data"
    }
   ],
   "source": [
    "image, label = dataset[23]\n",
    "plt.imshow(image, cmap='gray')  #cmap = \"gray\" tells that image is combinations of shades of grey\n",
    "print(\"label: \", label)"
   ]
  },
  {
   "attachments": {},
   "cell_type": "markdown",
   "id": "5b342a66",
   "metadata": {},
   "source": [
    "## Convert images to pytorch tensor"
   ]
  },
  {
   "cell_type": "code",
   "execution_count": 44,
   "id": "d7bd4d12",
   "metadata": {},
   "outputs": [
    {
     "name": "stdout",
     "output_type": "stream",
     "text": [
      "torch.Size([1, 28, 28]) 5\n"
     ]
    }
   ],
   "source": [
    "dataset = MNIST(root = \"/media/souravsaini/Data/POP_OS/dl/pytorch/pytorch\", train=True, transform = trn.ToTensor())\n",
    "img_t, label = dataset[0]\n",
    "print(img_t.shape, label)"
   ]
  },
  {
   "cell_type": "code",
   "execution_count": 45,
   "id": "8b37ea91",
   "metadata": {},
   "outputs": [
    {
     "name": "stdout",
     "output_type": "stream",
     "text": [
      "tensor([[[0.0000, 0.0000, 0.0000, 0.0000, 0.0000, 0.0000, 0.0000, 0.0000,\n",
      "          0.0000, 0.0000, 0.0000, 0.0000, 0.0000, 0.0000, 0.0000, 0.0000,\n",
      "          0.0000, 0.0000, 0.0000, 0.0000, 0.0000, 0.0000, 0.0000, 0.0000,\n",
      "          0.0000, 0.0000, 0.0000, 0.0000],\n",
      "         [0.0000, 0.0000, 0.0000, 0.0000, 0.0000, 0.0000, 0.0000, 0.0000,\n",
      "          0.0000, 0.0000, 0.0000, 0.0000, 0.0000, 0.0000, 0.0000, 0.0000,\n",
      "          0.0000, 0.0000, 0.0000, 0.0000, 0.0000, 0.0000, 0.0000, 0.0000,\n",
      "          0.0000, 0.0000, 0.0000, 0.0000],\n",
      "         [0.0000, 0.0000, 0.0000, 0.0000, 0.0000, 0.0000, 0.0000, 0.0000,\n",
      "          0.0000, 0.0000, 0.0000, 0.0000, 0.0000, 0.0000, 0.0000, 0.0000,\n",
      "          0.0000, 0.0000, 0.0000, 0.0000, 0.0000, 0.0000, 0.0000, 0.0000,\n",
      "          0.0000, 0.0000, 0.0000, 0.0000],\n",
      "         [0.0000, 0.0000, 0.0000, 0.0000, 0.0000, 0.0000, 0.0000, 0.0000,\n",
      "          0.0000, 0.0000, 0.0000, 0.0000, 0.0000, 0.0000, 0.0000, 0.0000,\n",
      "          0.0000, 0.0000, 0.0000, 0.0000, 0.0000, 0.0000, 0.0000, 0.0000,\n",
      "          0.0000, 0.0000, 0.0000, 0.0000],\n",
      "         [0.0000, 0.0000, 0.0000, 0.0000, 0.0000, 0.0000, 0.0000, 0.0000,\n",
      "          0.0000, 0.0000, 0.0000, 0.0000, 0.0000, 0.0000, 0.0000, 0.0000,\n",
      "          0.0000, 0.0000, 0.0000, 0.0000, 0.0000, 0.0000, 0.0000, 0.0000,\n",
      "          0.0000, 0.0000, 0.0000, 0.0000],\n",
      "         [0.0000, 0.0000, 0.0000, 0.0000, 0.0000, 0.0000, 0.0000, 0.0000,\n",
      "          0.0000, 0.0000, 0.0000, 0.0000, 0.0118, 0.0706, 0.0706, 0.0706,\n",
      "          0.4941, 0.5333, 0.6863, 0.1020, 0.6510, 1.0000, 0.9686, 0.4980,\n",
      "          0.0000, 0.0000, 0.0000, 0.0000],\n",
      "         [0.0000, 0.0000, 0.0000, 0.0000, 0.0000, 0.0000, 0.0000, 0.0000,\n",
      "          0.1176, 0.1412, 0.3686, 0.6039, 0.6667, 0.9922, 0.9922, 0.9922,\n",
      "          0.9922, 0.9922, 0.8824, 0.6745, 0.9922, 0.9490, 0.7647, 0.2510,\n",
      "          0.0000, 0.0000, 0.0000, 0.0000],\n",
      "         [0.0000, 0.0000, 0.0000, 0.0000, 0.0000, 0.0000, 0.0000, 0.1922,\n",
      "          0.9333, 0.9922, 0.9922, 0.9922, 0.9922, 0.9922, 0.9922, 0.9922,\n",
      "          0.9922, 0.9843, 0.3647, 0.3216, 0.3216, 0.2196, 0.1529, 0.0000,\n",
      "          0.0000, 0.0000, 0.0000, 0.0000],\n",
      "         [0.0000, 0.0000, 0.0000, 0.0000, 0.0000, 0.0000, 0.0000, 0.0706,\n",
      "          0.8588, 0.9922, 0.9922, 0.9922, 0.9922, 0.9922, 0.7765, 0.7137,\n",
      "          0.9686, 0.9451, 0.0000, 0.0000, 0.0000, 0.0000, 0.0000, 0.0000,\n",
      "          0.0000, 0.0000, 0.0000, 0.0000],\n",
      "         [0.0000, 0.0000, 0.0000, 0.0000, 0.0000, 0.0000, 0.0000, 0.0000,\n",
      "          0.3137, 0.6118, 0.4196, 0.9922, 0.9922, 0.8039, 0.0431, 0.0000,\n",
      "          0.1686, 0.6039, 0.0000, 0.0000, 0.0000, 0.0000, 0.0000, 0.0000,\n",
      "          0.0000, 0.0000, 0.0000, 0.0000],\n",
      "         [0.0000, 0.0000, 0.0000, 0.0000, 0.0000, 0.0000, 0.0000, 0.0000,\n",
      "          0.0000, 0.0549, 0.0039, 0.6039, 0.9922, 0.3529, 0.0000, 0.0000,\n",
      "          0.0000, 0.0000, 0.0000, 0.0000, 0.0000, 0.0000, 0.0000, 0.0000,\n",
      "          0.0000, 0.0000, 0.0000, 0.0000],\n",
      "         [0.0000, 0.0000, 0.0000, 0.0000, 0.0000, 0.0000, 0.0000, 0.0000,\n",
      "          0.0000, 0.0000, 0.0000, 0.5451, 0.9922, 0.7451, 0.0078, 0.0000,\n",
      "          0.0000, 0.0000, 0.0000, 0.0000, 0.0000, 0.0000, 0.0000, 0.0000,\n",
      "          0.0000, 0.0000, 0.0000, 0.0000],\n",
      "         [0.0000, 0.0000, 0.0000, 0.0000, 0.0000, 0.0000, 0.0000, 0.0000,\n",
      "          0.0000, 0.0000, 0.0000, 0.0431, 0.7451, 0.9922, 0.2745, 0.0000,\n",
      "          0.0000, 0.0000, 0.0000, 0.0000, 0.0000, 0.0000, 0.0000, 0.0000,\n",
      "          0.0000, 0.0000, 0.0000, 0.0000],\n",
      "         [0.0000, 0.0000, 0.0000, 0.0000, 0.0000, 0.0000, 0.0000, 0.0000,\n",
      "          0.0000, 0.0000, 0.0000, 0.0000, 0.1373, 0.9451, 0.8824, 0.6275,\n",
      "          0.4235, 0.0039, 0.0000, 0.0000, 0.0000, 0.0000, 0.0000, 0.0000,\n",
      "          0.0000, 0.0000, 0.0000, 0.0000],\n",
      "         [0.0000, 0.0000, 0.0000, 0.0000, 0.0000, 0.0000, 0.0000, 0.0000,\n",
      "          0.0000, 0.0000, 0.0000, 0.0000, 0.0000, 0.3176, 0.9412, 0.9922,\n",
      "          0.9922, 0.4667, 0.0980, 0.0000, 0.0000, 0.0000, 0.0000, 0.0000,\n",
      "          0.0000, 0.0000, 0.0000, 0.0000],\n",
      "         [0.0000, 0.0000, 0.0000, 0.0000, 0.0000, 0.0000, 0.0000, 0.0000,\n",
      "          0.0000, 0.0000, 0.0000, 0.0000, 0.0000, 0.0000, 0.1765, 0.7294,\n",
      "          0.9922, 0.9922, 0.5882, 0.1059, 0.0000, 0.0000, 0.0000, 0.0000,\n",
      "          0.0000, 0.0000, 0.0000, 0.0000],\n",
      "         [0.0000, 0.0000, 0.0000, 0.0000, 0.0000, 0.0000, 0.0000, 0.0000,\n",
      "          0.0000, 0.0000, 0.0000, 0.0000, 0.0000, 0.0000, 0.0000, 0.0627,\n",
      "          0.3647, 0.9882, 0.9922, 0.7333, 0.0000, 0.0000, 0.0000, 0.0000,\n",
      "          0.0000, 0.0000, 0.0000, 0.0000],\n",
      "         [0.0000, 0.0000, 0.0000, 0.0000, 0.0000, 0.0000, 0.0000, 0.0000,\n",
      "          0.0000, 0.0000, 0.0000, 0.0000, 0.0000, 0.0000, 0.0000, 0.0000,\n",
      "          0.0000, 0.9765, 0.9922, 0.9765, 0.2510, 0.0000, 0.0000, 0.0000,\n",
      "          0.0000, 0.0000, 0.0000, 0.0000],\n",
      "         [0.0000, 0.0000, 0.0000, 0.0000, 0.0000, 0.0000, 0.0000, 0.0000,\n",
      "          0.0000, 0.0000, 0.0000, 0.0000, 0.0000, 0.0000, 0.1804, 0.5098,\n",
      "          0.7176, 0.9922, 0.9922, 0.8118, 0.0078, 0.0000, 0.0000, 0.0000,\n",
      "          0.0000, 0.0000, 0.0000, 0.0000],\n",
      "         [0.0000, 0.0000, 0.0000, 0.0000, 0.0000, 0.0000, 0.0000, 0.0000,\n",
      "          0.0000, 0.0000, 0.0000, 0.0000, 0.1529, 0.5804, 0.8980, 0.9922,\n",
      "          0.9922, 0.9922, 0.9804, 0.7137, 0.0000, 0.0000, 0.0000, 0.0000,\n",
      "          0.0000, 0.0000, 0.0000, 0.0000],\n",
      "         [0.0000, 0.0000, 0.0000, 0.0000, 0.0000, 0.0000, 0.0000, 0.0000,\n",
      "          0.0000, 0.0000, 0.0941, 0.4471, 0.8667, 0.9922, 0.9922, 0.9922,\n",
      "          0.9922, 0.7882, 0.3059, 0.0000, 0.0000, 0.0000, 0.0000, 0.0000,\n",
      "          0.0000, 0.0000, 0.0000, 0.0000],\n",
      "         [0.0000, 0.0000, 0.0000, 0.0000, 0.0000, 0.0000, 0.0000, 0.0000,\n",
      "          0.0902, 0.2588, 0.8353, 0.9922, 0.9922, 0.9922, 0.9922, 0.7765,\n",
      "          0.3176, 0.0078, 0.0000, 0.0000, 0.0000, 0.0000, 0.0000, 0.0000,\n",
      "          0.0000, 0.0000, 0.0000, 0.0000],\n",
      "         [0.0000, 0.0000, 0.0000, 0.0000, 0.0000, 0.0000, 0.0706, 0.6706,\n",
      "          0.8588, 0.9922, 0.9922, 0.9922, 0.9922, 0.7647, 0.3137, 0.0353,\n",
      "          0.0000, 0.0000, 0.0000, 0.0000, 0.0000, 0.0000, 0.0000, 0.0000,\n",
      "          0.0000, 0.0000, 0.0000, 0.0000],\n",
      "         [0.0000, 0.0000, 0.0000, 0.0000, 0.2157, 0.6745, 0.8863, 0.9922,\n",
      "          0.9922, 0.9922, 0.9922, 0.9569, 0.5216, 0.0431, 0.0000, 0.0000,\n",
      "          0.0000, 0.0000, 0.0000, 0.0000, 0.0000, 0.0000, 0.0000, 0.0000,\n",
      "          0.0000, 0.0000, 0.0000, 0.0000],\n",
      "         [0.0000, 0.0000, 0.0000, 0.0000, 0.5333, 0.9922, 0.9922, 0.9922,\n",
      "          0.8314, 0.5294, 0.5176, 0.0627, 0.0000, 0.0000, 0.0000, 0.0000,\n",
      "          0.0000, 0.0000, 0.0000, 0.0000, 0.0000, 0.0000, 0.0000, 0.0000,\n",
      "          0.0000, 0.0000, 0.0000, 0.0000],\n",
      "         [0.0000, 0.0000, 0.0000, 0.0000, 0.0000, 0.0000, 0.0000, 0.0000,\n",
      "          0.0000, 0.0000, 0.0000, 0.0000, 0.0000, 0.0000, 0.0000, 0.0000,\n",
      "          0.0000, 0.0000, 0.0000, 0.0000, 0.0000, 0.0000, 0.0000, 0.0000,\n",
      "          0.0000, 0.0000, 0.0000, 0.0000],\n",
      "         [0.0000, 0.0000, 0.0000, 0.0000, 0.0000, 0.0000, 0.0000, 0.0000,\n",
      "          0.0000, 0.0000, 0.0000, 0.0000, 0.0000, 0.0000, 0.0000, 0.0000,\n",
      "          0.0000, 0.0000, 0.0000, 0.0000, 0.0000, 0.0000, 0.0000, 0.0000,\n",
      "          0.0000, 0.0000, 0.0000, 0.0000],\n",
      "         [0.0000, 0.0000, 0.0000, 0.0000, 0.0000, 0.0000, 0.0000, 0.0000,\n",
      "          0.0000, 0.0000, 0.0000, 0.0000, 0.0000, 0.0000, 0.0000, 0.0000,\n",
      "          0.0000, 0.0000, 0.0000, 0.0000, 0.0000, 0.0000, 0.0000, 0.0000,\n",
      "          0.0000, 0.0000, 0.0000, 0.0000]]])\n"
     ]
    }
   ],
   "source": [
    "print(img_t[0:, :, :])"
   ]
  },
  {
   "cell_type": "code",
   "execution_count": 46,
   "id": "f5cd7e88",
   "metadata": {},
   "outputs": [
    {
     "data": {
      "text/plain": [
       "<matplotlib.image.AxesImage at 0x7f2c34923700>"
      ]
     },
     "execution_count": 46,
     "metadata": {},
     "output_type": "execute_result"
    },
    {
     "data": {
      "image/png": "[encoded data removed]",
      "text/plain": [
       "<Figure size 640x480 with 1 Axes>"
      ]
     },
     "metadata": {},
     "output_type": "display_data"
    }
   ],
   "source": [
    "plt.imshow(img_t[0, 10:15, 10:15], cmap = 'gray')"
   ]
  },
  {
   "attachments": {},
   "cell_type": "markdown",
   "id": "65b4b080",
   "metadata": {},
   "source": [
    "### Traning set-\n",
    "##### used to train the model i.e compute the loss and adjust the weights of the model using gradient descent\n",
    "### Validation set-\n",
    "\n",
    "##### used to evaluate the model while training, adjust hyperparameter (learning rate, e.t.c.) and pick the best version of the model\n",
    "\n",
    "### Test set-\n",
    "##### used to compute different models, or different types of modleing approaches and report the finaccuracy of the model\n",
    "\n",
    "\n",
    "#### there are no predefined validation set, therefore we must manually split the 60,000 images into traing and validation dataset"
   ]
  },
  {
   "cell_type": "code",
   "execution_count": 47,
   "id": "8937b9e7",
   "metadata": {},
   "outputs": [
    {
     "name": "stdout",
     "output_type": "stream",
     "text": [
      "51000\n",
      "9000\n"
     ]
    }
   ],
   "source": [
    "# let us define a function that randomly picks a given fraction of the images for the validation set\n",
    "\n",
    "np.set_printoptions(suppress = True)\n",
    "def split_indx(n, val_frct):\n",
    "    n_val = int(n*val_frct)   # no. of images x faction\n",
    "    idx = np.random.permutation(n)   # creating random permutation of 0 to n-1\n",
    "    return idx[n_val:], idx[:n_val]\n",
    "\n",
    "train_idx, val_idx = split_indx(len(dataset), 0.15)\n",
    "print(len(train_idx))\n",
    "print(len(val_idx))"
   ]
  },
  {
   "cell_type": "code",
   "execution_count": 48,
   "id": "bf06dde9",
   "metadata": {},
   "outputs": [
    {
     "name": "stdout",
     "output_type": "stream",
     "text": [
      "<torch.utils.data.sampler.SubsetRandomSampler object at 0x7f2c34b0b700>\n"
     ]
    }
   ],
   "source": [
    "batch_size=5\n",
    "\n",
    "train_sampler = SubsetRandomSampler(train_idx)\n",
    "print(train_sampler)\n",
    "train_loader = DataLoader(dataset, batch_size, sampler=train_sampler)\n",
    "\n",
    "val_sampler = SubsetRandomSampler(val_idx)\n",
    "val_loader = DataLoader(dataset, batch_size, sampler=val_sampler)"
   ]
  },
  {
   "attachments": {},
   "cell_type": "markdown",
   "id": "819bebb9",
   "metadata": {},
   "source": [
    "since nn.linear expects the each training examples to be a vactor, each 1x28x28 image tensor needs to be flattened out into a vector of size(28x28)\n",
    "\n",
    "the output of ecah image is the vector  of size 10, with each element of the vector signifying the probability of a particular target label(i.e. 0 to 9). the predicted label for an image is simply the one with teh highest probablity"
   ]
  },
  {
   "cell_type": "code",
   "execution_count": 49,
   "id": "fdd4b2c9",
   "metadata": {},
   "outputs": [
    {
     "name": "stdout",
     "output_type": "stream",
     "text": [
      "Parameter containing:\n",
      "tensor([[ 0.0331,  0.0084, -0.0121,  ..., -0.0040,  0.0304, -0.0135],\n",
      "        [ 0.0180,  0.0218, -0.0198,  ..., -0.0188, -0.0220,  0.0147],\n",
      "        [ 0.0268,  0.0225,  0.0033,  ...,  0.0135,  0.0343,  0.0342],\n",
      "        ...,\n",
      "        [ 0.0043, -0.0016,  0.0193,  ...,  0.0028, -0.0082, -0.0013],\n",
      "        [ 0.0154,  0.0145, -0.0098,  ...,  0.0257,  0.0325,  0.0013],\n",
      "        [-0.0215, -0.0298,  0.0067,  ...,  0.0331, -0.0098, -0.0084]],\n",
      "       requires_grad=True)\n",
      "Parameter containing:\n",
      "tensor([ 0.0129,  0.0051, -0.0131,  0.0343,  0.0131, -0.0276, -0.0054, -0.0239,\n",
      "         0.0293,  0.0246], requires_grad=True)\n"
     ]
    }
   ],
   "source": [
    "np.set_printoptions(suppress = True)\n",
    "input_size = 28*28\n",
    "num_classes = 10\n",
    "model = nn.Linear(input_size, num_classes)\n",
    "print(model.weight)\n",
    "print(model.bias)"
   ]
  },
  {
   "attachments": {},
   "cell_type": "markdown",
   "id": "120543c9",
   "metadata": {},
   "source": [
    "since our images are of the shape 1x28x28 but we need them to be a vector of size 784 i.e. we need to flatten them out. we will use .reshape method of tensor which will allow us to efficiently view each image as a flat vector. \n",
    "to include this additional functionality within our model, we need to define a custom model by extending the nn.Module class from PyTorch"
   ]
  },
  {
   "cell_type": "code",
   "execution_count": 50,
   "id": "476a5a5f",
   "metadata": {},
   "outputs": [],
   "source": [
    "class MnistModel(nn.Module):\n",
    "    def __init__(self):\n",
    "        super().__init__()  # to inherit the nn.Module class\n",
    "        self.linear1 = nn.Linear(input_size, 256)\n",
    "        self.linear2 = nn.Linear(256, num_classes)\n",
    "        self.Relu = nn.ReLU()\n",
    "        # print('self.linear= ', self.linear)\n",
    "        \n",
    "    def forward(self, xb):\n",
    "        # print('old xb size= ', xb.shape)\n",
    "        # print('old xb= ', xb)\n",
    "        xb = xb.reshape(-1,784)  # -1 allows to work with any batch size\n",
    "        # print('xb size= ', xb.shape)\n",
    "        # print('xb= ', xb)\n",
    "        out = self.linear1(xb)\n",
    "        out = self.linear2(self.Relu(out))\n",
    "        out = self.Relu(out)\n",
    "        return out\n",
    "\n",
    "model = MnistModel()"
   ]
  },
  {
   "cell_type": "code",
   "execution_count": 52,
   "id": "77a2623c",
   "metadata": {},
   "outputs": [
    {
     "name": "stdout",
     "output_type": "stream",
     "text": [
      "tensor([3, 7, 9, 8, 0])\n",
      "torch.Size([5, 1, 28, 28])\n",
      "otpt size= torch.Size([5, 10])\n",
      "tensor([[0.0641, 0.0435, 0.0409, 0.0000, 0.0000, 0.1046, 0.0000, 0.0000, 0.0297,\n",
      "         0.0000],\n",
      "        [0.1357, 0.0000, 0.2089, 0.0000, 0.0144, 0.0000, 0.0000, 0.0000, 0.0197,\n",
      "         0.0608],\n",
      "        [0.0000, 0.0000, 0.0957, 0.0000, 0.0238, 0.0248, 0.0000, 0.0000, 0.0693,\n",
      "         0.0000],\n",
      "        [0.0000, 0.0000, 0.0890, 0.0000, 0.0000, 0.0000, 0.0000, 0.0000, 0.0578,\n",
      "         0.0000],\n",
      "        [0.0390, 0.0000, 0.0167, 0.0000, 0.0000, 0.0000, 0.0000, 0.0000, 0.0087,\n",
      "         0.0000]], grad_fn=<ReluBackward0>)\n",
      "torch.Size([256, 784])\n",
      "torch.Size([256])\n",
      "torch.Size([10, 256])\n",
      "torch.Size([10])\n"
     ]
    }
   ],
   "source": [
    "for images, labels in train_loader:\n",
    "    print(labels)\n",
    "    print(images.shape)\n",
    "    otpt = model(images)\n",
    "    print('otpt size=', otpt.shape)\n",
    "    print(otpt)\n",
    "    break\n",
    "print(model.linear1.weight.shape)\n",
    "print(model.linear1.bias.shape)\n",
    "print(model.linear2.weight.shape)\n",
    "print(model.linear2.bias.shape)"
   ]
  },
  {
   "attachments": {},
   "cell_type": "markdown",
   "id": "25359eb9",
   "metadata": {},
   "source": [
    "now we want to convert the each data value in the weigth as probabilities and therefore the values should be in range[0,1] and sum of all the probabilties should add to 1"
   ]
  },
  {
   "attachments": {},
   "cell_type": "markdown",
   "id": "c68a9700",
   "metadata": {},
   "source": [
    "to do so we first raise all the values(vi) in the row to e^(vi). this is to make a significant difference between the numbers. then we divide the value by sum of all the elements. the value we got is called the softmax."
   ]
  },
  {
   "cell_type": "code",
   "execution_count": 53,
   "id": "c2172b3d",
   "metadata": {},
   "outputs": [
    {
     "name": "stdout",
     "output_type": "stream",
     "text": [
      "tensor([[0.1036, 0.1015, 0.1012, 0.0972, 0.0972, 0.1079, 0.0972, 0.0972, 0.1001,\n",
      "         0.0972],\n",
      "        [0.1093, 0.0955, 0.1176, 0.0955, 0.0969, 0.0955, 0.0955, 0.0955, 0.0974,\n",
      "         0.1014],\n",
      "        [0.0978, 0.0978, 0.1077, 0.0978, 0.1002, 0.1003, 0.0978, 0.0978, 0.1049,\n",
      "         0.0978],\n",
      "        [0.0985, 0.0985, 0.1077, 0.0985, 0.0985, 0.0985, 0.0985, 0.0985, 0.1044,\n",
      "         0.0985],\n",
      "        [0.1033, 0.0994, 0.1010, 0.0994, 0.0994, 0.0994, 0.0994, 0.0994, 0.1002,\n",
      "         0.0994]], grad_fn=<SoftmaxBackward0>)\n",
      "torch.Size([5, 10])\n"
     ]
    }
   ],
   "source": [
    "prob = F.softmax(otpt, dim=1)\n",
    "print(prob)\n",
    "print(prob.shape)"
   ]
  },
  {
   "cell_type": "code",
   "execution_count": 54,
   "id": "e9b0a1cc",
   "metadata": {},
   "outputs": [
    {
     "name": "stdout",
     "output_type": "stream",
     "text": [
      "tensor([0.1079, 0.1176, 0.1077, 0.1077, 0.1033], grad_fn=<MaxBackward0>)\n",
      "torch.Size([5])\n",
      "tensor([5, 2, 2, 2, 0])\n"
     ]
    }
   ],
   "source": [
    "max_prob, pred = torch.max(prob, dim=1)\n",
    "print(max_prob)\n",
    "print(max_prob.shape)\n",
    "print(pred)"
   ]
  },
  {
   "cell_type": "code",
   "execution_count": 55,
   "id": "dc29cf4e",
   "metadata": {},
   "outputs": [
    {
     "name": "stdout",
     "output_type": "stream",
     "text": [
      "tensor([3, 7, 9, 8, 0])\n"
     ]
    }
   ],
   "source": [
    "print(labels)"
   ]
  },
  {
   "attachments": {},
   "cell_type": "markdown",
   "id": "f734d84a",
   "metadata": {},
   "source": [
    "# Evaluation matrix and Loss function\n",
    "#### just as with linear regression, we need a way to evaluate how well our model is performing. A natural way to do is to find the percentage of lables that were predicted correctly i.e. the accuracy of the predictions"
   ]
  },
  {
   "cell_type": "code",
   "execution_count": 56,
   "id": "f483c4ca",
   "metadata": {},
   "outputs": [
    {
     "data": {
      "text/plain": [
       "0.2"
      ]
     },
     "execution_count": 56,
     "metadata": {},
     "output_type": "execute_result"
    }
   ],
   "source": [
    "def accuracy(l1, l2):\n",
    "    return torch.sum(l1==l2).item()/len(l1)\n",
    "\n",
    "accuracy(pred, labels)"
   ]
  },
  {
   "cell_type": "code",
   "execution_count": 57,
   "id": "9c347f0f",
   "metadata": {},
   "outputs": [
    {
     "data": {
      "text/plain": [
       "tensor([False, False, False, False,  True])"
      ]
     },
     "execution_count": 57,
     "metadata": {},
     "output_type": "execute_result"
    }
   ],
   "source": [
    "labels==pred"
   ]
  },
  {
   "attachments": {},
   "cell_type": "markdown",
   "id": "b5f2b4e8",
   "metadata": {},
   "source": [
    "##### we can not use accuracy as our loss function, because accuray is non continous and differentiable"
   ]
  },
  {
   "attachments": {},
   "cell_type": "markdown",
   "id": "86c411a4",
   "metadata": {},
   "source": [
    "##### a commonly used loss fnx for clarrification problem is the cross entropy which can be done in the following way"
   ]
  },
  {
   "attachments": {},
   "cell_type": "markdown",
   "id": "6ab9a54e",
   "metadata": {},
   "source": [
    "##### for each output row pick the predicted probability for the correct label.\n",
    "\n",
    "##### then take the log of the picked value. if the probability is high or close to 1 then the log value will be very small negative value close to zero. if the probabilty is close to one then the log value will be very high negative value. so we multiply the value with -1 which makes it positive\n",
    "\n",
    "##### then take the avg value of the entory across all the output row to get the overall loss for the batch size"
   ]
  },
  {
   "cell_type": "code",
   "execution_count": 58,
   "id": "b7a79db0",
   "metadata": {},
   "outputs": [
    {
     "name": "stdout",
     "output_type": "stream",
     "text": [
      "tensor(2.3030, grad_fn=<NllLossBackward0>)\n",
      "tensor([3, 7, 9, 8, 0])\n"
     ]
    }
   ],
   "source": [
    "loss_fn = F.cross_entropy\n",
    "loss = loss_fn(prob, labels)\n",
    "print(loss)\n",
    "print(labels)"
   ]
  },
  {
   "attachments": {},
   "cell_type": "markdown",
   "id": "667a89aa",
   "metadata": {},
   "source": [
    "# Optimizer "
   ]
  },
  {
   "cell_type": "code",
   "execution_count": 59,
   "id": "fc433873",
   "metadata": {},
   "outputs": [],
   "source": [
    "l_r = 0.001\n",
    "opt = torch.optim.SGD(model.parameters(), lr=l_r)"
   ]
  },
  {
   "cell_type": "code",
   "execution_count": 88,
   "id": "bfc61a0e",
   "metadata": {},
   "outputs": [],
   "source": [
    "def loss_batch(model, loss_fxn, xb, yb, opt=None, metric=None):\n",
    "    preds = model(xb)   # find the predictions by putting the batch into the model fxn\n",
    "    loss = loss_fxn(preds, yb) # then find the loss wrt to the lables provided\n",
    "    \n",
    "    if opt is not None:\n",
    "        loss.backward()   # compute gradient\n",
    "        opt.step()        # update parameters\n",
    "        opt.zero_grad()   # reset gradients\n",
    "    \n",
    "    metric_result = None\n",
    "    if metric is not None:\n",
    "        metric_result = metric(preds, yb)\n",
    "    \n",
    "    return loss.item(), len(xb), metric_result"
   ]
  },
  {
   "cell_type": "code",
   "execution_count": 89,
   "id": "588c7c76",
   "metadata": {},
   "outputs": [],
   "source": [
    "def evaluation(model, loss_fn, valid_dl, metric=None):\n",
    "    with torch.no_grad():\n",
    "        # for loop gives the batches out of the validation set\n",
    "        # metric is the accuracy matrix\n",
    "        results = [loss_batch(model, loss_fn, xb, yb, metric=metric)\n",
    "                  for xb, yb in valid_dl]\n",
    "        # to separate out the lists we use zip function\n",
    "        losses, nums, metrics = zip(*results)\n",
    "        # total size is the sum of all the batch size\n",
    "        total = np.sum(nums)\n",
    "        # since we have divded the set into batches therefore we can have the last batch size to be smaller than the rest\n",
    "        # so we first calculate the length and then find its avg value\n",
    "        # suppose we have a batch of size 3, 3 and 2. so we take the first loss and multipy with 3, take 2nd and multiply with \n",
    "        # 3 and then take 3rd loss and muliply with 2. ten sum all the values and then divide by sum of batch size i.e. 3+3+2\n",
    "        avg_loss = np.sum(np.multiply(losses, nums)) / total\n",
    "        avg_metric = None\n",
    "        if metric is not None:\n",
    "            avg_metric = np.sum(np.multiply(metrics, nums))/total\n",
    "        return avg_loss, total, avg_metric"
   ]
  },
  {
   "cell_type": "code",
   "execution_count": 117,
   "id": "09efbcee",
   "metadata": {},
   "outputs": [],
   "source": [
    "def accuracy(outputs, lables):\n",
    "    prob, preds = torch.max(outputs, dim = 1)\n",
    "    return torch.sum(preds == lables).item()/len(preds)"
   ]
  },
  {
   "cell_type": "code",
   "execution_count": 118,
   "id": "b73968c7",
   "metadata": {},
   "outputs": [],
   "source": [
    "def fit(epochs, model, loss_fn, opt, train_dl, valid_dl, metric=None):\n",
    "    for i in range(epochs):\n",
    "        # Training\n",
    "        for xb, yb in train_dl:\n",
    "            loss, length, metric_result = loss_batch(model, loss_fn, xb, yb, opt)\n",
    "        \n",
    "        # Evaluation\n",
    "        result = evaluation(model, loss_fn, valid_dl, metric)\n",
    "        val_loss, total, val_metric = result\n",
    "        \n",
    "        # printing the progress\n",
    "        if metric is None:\n",
    "            print(\"epoch [\", i+1, ',', epochs, '] , loss= ', val_loss)\n",
    "        else:\n",
    "            print('*Epoch [', i+1, ',', epochs, '], loss= ', val_loss, ',', metric.__name__, ',' , val_metric)"
   ]
  },
  {
   "cell_type": "code",
   "execution_count": 119,
   "id": "ea3ad585",
   "metadata": {},
   "outputs": [],
   "source": [
    "def get_default_device():\n",
    "    if torch.cuda.is_available():\n",
    "        return torch.device('cuda')\n",
    "    else:\n",
    "        return torch.device('cpu')\n",
    "    \n",
    "def to_device(data, device):\n",
    "    if isinstance(data, (list, tuple)):\n",
    "        return [to_device(x, device) for x in data]\n",
    "    return data.to(device, non_blocking=True)\n",
    "\n",
    "class DeviceDataLoader():\n",
    "    def __init__(self, dl, device):\n",
    "        self.dl = dl\n",
    "        self.device = device\n",
    "        \n",
    "    def __iter__(self):\n",
    "        for b in self.dl:\n",
    "            yield to_device(b, self.device)\n",
    "    \n",
    "    def __len__(self):\n",
    "        return len(self.dl)"
   ]
  },
  {
   "cell_type": "code",
   "execution_count": 120,
   "id": "52074732",
   "metadata": {},
   "outputs": [],
   "source": [
    "device = get_default_device()\n",
    "train_dl = DeviceDataLoader(train_loader, device)\n",
    "val_dl = DeviceDataLoader(val_loader, device)\n",
    "model = MnistModel()\n",
    "to_device(model, device)\n",
    "optimizer = torch.optim.SGD(model.parameters(), lr= l_r)"
   ]
  },
  {
   "cell_type": "code",
   "execution_count": 121,
   "id": "c5be3994",
   "metadata": {},
   "outputs": [
    {
     "name": "stdout",
     "output_type": "stream",
     "text": [
      "*Epoch [ 1 , 100 ], loss=  0.8624865623687704 , accuracy , 0.7586666666666667\n",
      "*Epoch [ 2 , 100 ], loss=  0.6774466987306045 , accuracy , 0.784\n",
      "*Epoch [ 3 , 100 ], loss=  0.6182285292343133 , accuracy , 0.7944444444444444\n",
      "*Epoch [ 4 , 100 ], loss=  0.5875305208995835 , accuracy , 0.8003333333333333\n",
      "*Epoch [ 5 , 100 ], loss=  0.33310868731208354 , accuracy , 0.9054444444444445\n",
      "*Epoch [ 6 , 100 ], loss=  0.3089985283227482 , accuracy , 0.9117777777777778\n",
      "*Epoch [ 7 , 100 ], loss=  0.29354071368618556 , accuracy , 0.9154444444444444\n",
      "*Epoch [ 8 , 100 ], loss=  0.28028896859730595 , accuracy , 0.921\n",
      "*Epoch [ 9 , 100 ], loss=  0.2678345639727518 , accuracy , 0.925\n",
      "*Epoch [ 10 , 100 ], loss=  0.2577518411774913 , accuracy , 0.9272222222222222\n",
      "*Epoch [ 11 , 100 ], loss=  0.24990487878417803 , accuracy , 0.9296666666666666\n",
      "*Epoch [ 12 , 100 ], loss=  0.24179982794151228 , accuracy , 0.9314444444444444\n",
      "*Epoch [ 13 , 100 ], loss=  0.2335400431427277 , accuracy , 0.934\n",
      "*Epoch [ 14 , 100 ], loss=  0.22603568199368762 , accuracy , 0.9355555555555556\n",
      "*Epoch [ 15 , 100 ], loss=  0.22048463748716232 , accuracy , 0.9357777777777778\n",
      "*Epoch [ 16 , 100 ], loss=  0.21375389268450412 , accuracy , 0.9378888888888889\n",
      "*Epoch [ 17 , 100 ], loss=  0.2087542925929625 , accuracy , 0.9404444444444444\n",
      "*Epoch [ 18 , 100 ], loss=  0.2027053490070264 , accuracy , 0.9402222222222222\n",
      "*Epoch [ 19 , 100 ], loss=  0.19755469461566666 , accuracy , 0.9413333333333334\n",
      "*Epoch [ 20 , 100 ], loss=  0.19232941602718912 , accuracy , 0.9428888888888889\n",
      "*Epoch [ 21 , 100 ], loss=  0.1879079389332522 , accuracy , 0.9436666666666667\n",
      "*Epoch [ 22 , 100 ], loss=  0.18371067242383207 , accuracy , 0.9453333333333334\n",
      "*Epoch [ 23 , 100 ], loss=  0.17930834089302355 , accuracy , 0.9467777777777778\n",
      "*Epoch [ 24 , 100 ], loss=  0.1758006041854646 , accuracy , 0.9481111111111111\n",
      "*Epoch [ 25 , 100 ], loss=  0.17240148203392489 , accuracy , 0.9472222222222222\n",
      "*Epoch [ 26 , 100 ], loss=  0.16796270115184597 , accuracy , 0.9501111111111111\n",
      "*Epoch [ 27 , 100 ], loss=  0.16510753674173934 , accuracy , 0.9506666666666667\n",
      "*Epoch [ 28 , 100 ], loss=  0.1621150653882392 , accuracy , 0.951\n",
      "*Epoch [ 29 , 100 ], loss=  0.16028462017234738 , accuracy , 0.9505555555555556\n",
      "*Epoch [ 30 , 100 ], loss=  0.15646195748701253 , accuracy , 0.9528888888888889\n",
      "*Epoch [ 31 , 100 ], loss=  0.1544006379326715 , accuracy , 0.9531111111111111\n",
      "*Epoch [ 32 , 100 ], loss=  0.15099090950743024 , accuracy , 0.955\n",
      "*Epoch [ 33 , 100 ], loss=  0.14835284142997504 , accuracy , 0.9558888888888889\n",
      "*Epoch [ 34 , 100 ], loss=  0.14675186875842175 , accuracy , 0.9555555555555556\n",
      "*Epoch [ 35 , 100 ], loss=  0.14381942465605485 , accuracy , 0.9574444444444444\n",
      "*Epoch [ 36 , 100 ], loss=  0.14248455352398903 , accuracy , 0.9576666666666667\n",
      "*Epoch [ 37 , 100 ], loss=  0.1400082632694264 , accuracy , 0.9577777777777777\n",
      "*Epoch [ 38 , 100 ], loss=  0.13789799848823653 , accuracy , 0.9591111111111111\n",
      "*Epoch [ 39 , 100 ], loss=  0.13632113022361106 , accuracy , 0.9591111111111111\n",
      "*Epoch [ 40 , 100 ], loss=  0.13455341240864882 , accuracy , 0.9588888888888889\n",
      "*Epoch [ 41 , 100 ], loss=  0.1329473746981239 , accuracy , 0.9605555555555556\n",
      "*Epoch [ 42 , 100 ], loss=  0.1315667191206497 , accuracy , 0.9615555555555556\n",
      "*Epoch [ 43 , 100 ], loss=  0.12984979635419827 , accuracy , 0.9617777777777777\n",
      "*Epoch [ 44 , 100 ], loss=  0.12868929047331523 , accuracy , 0.9616666666666667\n",
      "*Epoch [ 45 , 100 ], loss=  0.12694665795091875 , accuracy , 0.9626666666666667\n",
      "*Epoch [ 46 , 100 ], loss=  0.12622607109149006 , accuracy , 0.9631111111111111\n",
      "*Epoch [ 47 , 100 ], loss=  0.12445460615441133 , accuracy , 0.9633333333333334\n",
      "*Epoch [ 48 , 100 ], loss=  0.12282876995421248 , accuracy , 0.9632222222222222\n",
      "*Epoch [ 49 , 100 ], loss=  0.12268214244210361 , accuracy , 0.9638888888888889\n",
      "*Epoch [ 50 , 100 ], loss=  0.12077430514008382 , accuracy , 0.964\n",
      "*Epoch [ 51 , 100 ], loss=  0.11959534488844736 , accuracy , 0.9653333333333334\n",
      "*Epoch [ 52 , 100 ], loss=  0.11812888064436265 , accuracy , 0.9648888888888889\n",
      "*Epoch [ 53 , 100 ], loss=  0.11709631107982002 , accuracy , 0.9655555555555555\n",
      "*Epoch [ 54 , 100 ], loss=  0.11658804153793931 , accuracy , 0.9662222222222222\n",
      "*Epoch [ 55 , 100 ], loss=  0.11501399715197395 , accuracy , 0.9656666666666667\n",
      "*Epoch [ 56 , 100 ], loss=  0.11454184441041636 , accuracy , 0.9663333333333334\n",
      "*Epoch [ 57 , 100 ], loss=  0.11316092149880003 , accuracy , 0.9666666666666667\n",
      "*Epoch [ 58 , 100 ], loss=  0.11270697945387737 , accuracy , 0.9668888888888889\n",
      "*Epoch [ 59 , 100 ], loss=  0.11192879175763261 , accuracy , 0.966\n",
      "*Epoch [ 60 , 100 ], loss=  0.11127276809769683 , accuracy , 0.9664444444444444\n",
      "*Epoch [ 61 , 100 ], loss=  0.11007750394097658 , accuracy , 0.9675555555555555\n",
      "*Epoch [ 62 , 100 ], loss=  0.10992573882192826 , accuracy , 0.9678888888888889\n",
      "*Epoch [ 63 , 100 ], loss=  0.108267423772971 , accuracy , 0.9677777777777777\n",
      "*Epoch [ 64 , 100 ], loss=  0.10863804023138073 , accuracy , 0.9675555555555555\n",
      "*Epoch [ 65 , 100 ], loss=  0.10718964845576313 , accuracy , 0.9682222222222222\n",
      "*Epoch [ 66 , 100 ], loss=  0.10622439365587828 , accuracy , 0.9692222222222222\n",
      "*Epoch [ 67 , 100 ], loss=  0.10626197419521001 , accuracy , 0.9687777777777777\n",
      "*Epoch [ 68 , 100 ], loss=  0.10508806771891412 , accuracy , 0.968\n",
      "*Epoch [ 69 , 100 ], loss=  0.10389207782973649 , accuracy , 0.9682222222222222\n",
      "*Epoch [ 70 , 100 ], loss=  0.10380588547804412 , accuracy , 0.9687777777777777\n",
      "*Epoch [ 71 , 100 ], loss=  0.10352562759808481 , accuracy , 0.9684444444444444\n",
      "*Epoch [ 72 , 100 ], loss=  0.10221610866731579 , accuracy , 0.9693333333333334\n",
      "*Epoch [ 73 , 100 ], loss=  0.10150470587800454 , accuracy , 0.9701111111111111\n",
      "*Epoch [ 74 , 100 ], loss=  0.10194902069105916 , accuracy , 0.9698888888888889\n",
      "*Epoch [ 75 , 100 ], loss=  0.10065298613826194 , accuracy , 0.9701111111111111\n",
      "*Epoch [ 76 , 100 ], loss=  0.10126171621633047 , accuracy , 0.9695555555555555\n",
      "*Epoch [ 77 , 100 ], loss=  0.10003108329275467 , accuracy , 0.9707777777777777\n",
      "*Epoch [ 78 , 100 ], loss=  0.0998963300753773 , accuracy , 0.9705555555555555\n",
      "*Epoch [ 79 , 100 ], loss=  0.0993425503942328 , accuracy , 0.9696666666666667\n",
      "*Epoch [ 80 , 100 ], loss=  0.09872703947684688 , accuracy , 0.9693333333333334\n",
      "*Epoch [ 81 , 100 ], loss=  0.09835699022552893 , accuracy , 0.9708888888888889\n",
      "*Epoch [ 82 , 100 ], loss=  0.09766452840614673 , accuracy , 0.9706666666666667\n",
      "*Epoch [ 83 , 100 ], loss=  0.09799791446697377 , accuracy , 0.9701111111111111\n",
      "*Epoch [ 84 , 100 ], loss=  0.09741366941075992 , accuracy , 0.9702222222222222\n",
      "*Epoch [ 85 , 100 ], loss=  0.0978628338906775 , accuracy , 0.9702222222222222\n",
      "*Epoch [ 86 , 100 ], loss=  0.09660614239274663 , accuracy , 0.9712222222222222\n",
      "*Epoch [ 87 , 100 ], loss=  0.0958240399853235 , accuracy , 0.9705555555555555\n",
      "*Epoch [ 88 , 100 ], loss=  0.09573829761082582 , accuracy , 0.9714444444444444\n",
      "*Epoch [ 89 , 100 ], loss=  0.0954614289076643 , accuracy , 0.9722222222222222\n",
      "*Epoch [ 90 , 100 ], loss=  0.09563091011264381 , accuracy , 0.9705555555555555\n",
      "*Epoch [ 91 , 100 ], loss=  0.09446106516666784 , accuracy , 0.9718888888888889\n",
      "*Epoch [ 92 , 100 ], loss=  0.09504548703530014 , accuracy , 0.9716666666666667\n",
      "*Epoch [ 93 , 100 ], loss=  0.09422641478520948 , accuracy , 0.9714444444444444\n",
      "*Epoch [ 94 , 100 ], loss=  0.09360301896599493 , accuracy , 0.9715555555555555\n",
      "*Epoch [ 95 , 100 ], loss=  0.09393257539708834 , accuracy , 0.9716666666666667\n",
      "*Epoch [ 96 , 100 ], loss=  0.09346582053273678 , accuracy , 0.9718888888888889\n",
      "*Epoch [ 97 , 100 ], loss=  0.09346582351673634 , accuracy , 0.9712222222222222\n",
      "*Epoch [ 98 , 100 ], loss=  0.09229618015877551 , accuracy , 0.972\n",
      "*Epoch [ 99 , 100 ], loss=  0.09257981251283834 , accuracy , 0.9715555555555555\n",
      "*Epoch [ 100 , 100 ], loss=  0.0923498297693752 , accuracy , 0.972\n"
     ]
    }
   ],
   "source": [
    "fit(100, model, F.cross_entropy, optimizer, train_dl, val_dl, accuracy)"
   ]
  },
  {
   "attachments": {},
   "cell_type": "markdown",
   "id": "0fd2097b",
   "metadata": {},
   "source": [
    "# Testing"
   ]
  },
  {
   "cell_type": "code",
   "execution_count": 123,
   "id": "66eb87b8",
   "metadata": {},
   "outputs": [
    {
     "name": "stdout",
     "output_type": "stream",
     "text": [
      "shape=  torch.Size([1, 28, 28])\n",
      "label=  7\n"
     ]
    },
    {
     "data": {
      "image/png": "[encoded data removed]",
      "text/plain": [
       "<Figure size 640x480 with 1 Axes>"
      ]
     },
     "metadata": {},
     "output_type": "display_data"
    }
   ],
   "source": [
    "test_dataset = MNIST(root = \"/media/souravsaini/Data/POP_OS/dl/pytorch/pytorch\", train = False, transform=trn.ToTensor())\n",
    "img, label = test_dataset[0]\n",
    "plt.imshow(img[0], cmap = 'gray')\n",
    "print('shape= ', img.shape)\n",
    "print('label= ', label)"
   ]
  },
  {
   "cell_type": "code",
   "execution_count": 124,
   "id": "6088b948",
   "metadata": {},
   "outputs": [
    {
     "data": {
      "text/plain": [
       "torch.Size([1, 1, 28, 28])"
      ]
     },
     "execution_count": 124,
     "metadata": {},
     "output_type": "execute_result"
    }
   ],
   "source": [
    "img.unsqueeze(0).shape"
   ]
  },
  {
   "cell_type": "code",
   "execution_count": 125,
   "id": "be9be623",
   "metadata": {},
   "outputs": [],
   "source": [
    "def predict_img(img, model):\n",
    "    xb = img.unsqueeze(0)\n",
    "    yb = model(xb)\n",
    "    prob, pred = torch.max(yb, dim=1)\n",
    "    return pred[0].item()"
   ]
  },
  {
   "cell_type": "code",
   "execution_count": 127,
   "id": "f881271a",
   "metadata": {},
   "outputs": [
    {
     "name": "stdout",
     "output_type": "stream",
     "text": [
      "Loss=  0.07892555457764525  accuracy=  0.9748\n"
     ]
    }
   ],
   "source": [
    "test_loader = DataLoader(test_dataset, batch_size=5)\n",
    "test_loader = DeviceDataLoader(test_loader, device)\n",
    "test_loss, total, test_acc = evaluation(model, loss_fn, test_loader, accuracy)\n",
    "print('Loss= ', test_loss, \" accuracy= \", test_acc)"
   ]
  }
 ],
 "metadata": {
  "kernelspec": {
   "display_name": "Python 3 (ipykernel)",
   "language": "python",
   "name": "python3"
  },
  "language_info": {
   "codemirror_mode": {
    "name": "ipython",
    "version": 3
   },
   "file_extension": ".py",
   "mimetype": "text/x-python",
   "name": "python",
   "nbconvert_exporter": "python",
   "pygments_lexer": "ipython3",
   "version": "3.10.6"
  }
 },
 "nbformat": 4,
 "nbformat_minor": 5
}
